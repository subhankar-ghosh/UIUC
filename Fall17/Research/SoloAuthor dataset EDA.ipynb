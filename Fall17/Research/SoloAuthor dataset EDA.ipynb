{
 "cells": [
  {
   "cell_type": "code",
   "execution_count": 6,
   "metadata": {
    "collapsed": true
   },
   "outputs": [],
   "source": [
    "import numpy as np\n",
    "import pandas as pd"
   ]
  },
  {
   "cell_type": "code",
   "execution_count": 2,
   "metadata": {
    "collapsed": true
   },
   "outputs": [],
   "source": [
    "import tensorflow as tf"
   ]
  },
  {
   "cell_type": "code",
   "execution_count": 3,
   "metadata": {
    "collapsed": true
   },
   "outputs": [],
   "source": [
    "sess = tf.Session(config=tf.ConfigProto(log_device_placement=True))"
   ]
  },
  {
   "cell_type": "code",
   "execution_count": 7,
   "metadata": {},
   "outputs": [
    {
     "data": {
      "text/html": [
       "<div>\n",
       "<style>\n",
       "    .dataframe thead tr:only-child th {\n",
       "        text-align: right;\n",
       "    }\n",
       "\n",
       "    .dataframe thead th {\n",
       "        text-align: left;\n",
       "    }\n",
       "\n",
       "    .dataframe tbody tr th {\n",
       "        vertical-align: top;\n",
       "    }\n",
       "</style>\n",
       "<table border=\"1\" class=\"dataframe\">\n",
       "  <thead>\n",
       "    <tr style=\"text-align: right;\">\n",
       "      <th></th>\n",
       "      <th>lastname</th>\n",
       "      <th>fn</th>\n",
       "      <th>year</th>\n",
       "      <th>country</th>\n",
       "      <th>gender</th>\n",
       "      <th>ageY</th>\n",
       "      <th>ageN</th>\n",
       "      <th>abstract</th>\n",
       "      <th>ethnicities</th>\n",
       "    </tr>\n",
       "    <tr>\n",
       "      <th>PMID</th>\n",
       "      <th></th>\n",
       "      <th></th>\n",
       "      <th></th>\n",
       "      <th></th>\n",
       "      <th></th>\n",
       "      <th></th>\n",
       "      <th></th>\n",
       "      <th></th>\n",
       "      <th></th>\n",
       "    </tr>\n",
       "  </thead>\n",
       "  <tbody>\n",
       "    <tr>\n",
       "      <th>3917010</th>\n",
       "      <td>Seeman</td>\n",
       "      <td>nadrian</td>\n",
       "      <td>1985</td>\n",
       "      <td>USA</td>\n",
       "      <td>M</td>\n",
       "      <td>15</td>\n",
       "      <td>23</td>\n",
       "      <td>The simplest form of macromolecular design inv...</td>\n",
       "      <td>ENGLISH</td>\n",
       "    </tr>\n",
       "    <tr>\n",
       "      <th>3940060</th>\n",
       "      <td>Gorea</td>\n",
       "      <td>andrei</td>\n",
       "      <td>1985</td>\n",
       "      <td>FRANCE</td>\n",
       "      <td>M</td>\n",
       "      <td>9</td>\n",
       "      <td>7</td>\n",
       "      <td>Spatial integration characteristics were asses...</td>\n",
       "      <td>FRENCH-HISPANIC</td>\n",
       "    </tr>\n",
       "    <tr>\n",
       "      <th>3128160</th>\n",
       "      <td>Tippett</td>\n",
       "      <td>pa</td>\n",
       "      <td>1986</td>\n",
       "      <td>UK</td>\n",
       "      <td>F</td>\n",
       "      <td>29</td>\n",
       "      <td>118</td>\n",
       "      <td>Two closely linked structural loci, D and 'CcE...</td>\n",
       "      <td>ENGLISH</td>\n",
       "    </tr>\n",
       "    <tr>\n",
       "      <th>3659720</th>\n",
       "      <td>Friedman</td>\n",
       "      <td>eileen</td>\n",
       "      <td>1987</td>\n",
       "      <td>USA</td>\n",
       "      <td>F</td>\n",
       "      <td>3</td>\n",
       "      <td>3</td>\n",
       "      <td>Colon carcinoma cells cocultured with adenoma ...</td>\n",
       "      <td>ENGLISH</td>\n",
       "    </tr>\n",
       "    <tr>\n",
       "      <th>3310230</th>\n",
       "      <td>Holliday</td>\n",
       "      <td>robin</td>\n",
       "      <td>1987</td>\n",
       "      <td>UK</td>\n",
       "      <td>N</td>\n",
       "      <td>26</td>\n",
       "      <td>87</td>\n",
       "      <td>Evidence from many sources shows that the cont...</td>\n",
       "      <td>ENGLISH</td>\n",
       "    </tr>\n",
       "  </tbody>\n",
       "</table>\n",
       "</div>"
      ],
      "text/plain": [
       "         lastname       fn  year country gender ageY ageN  \\\n",
       "PMID                                                        \n",
       "3917010    Seeman  nadrian  1985     USA      M   15   23   \n",
       "3940060     Gorea   andrei  1985  FRANCE      M    9    7   \n",
       "3128160   Tippett       pa  1986      UK      F   29  118   \n",
       "3659720  Friedman   eileen  1987     USA      F    3    3   \n",
       "3310230  Holliday    robin  1987      UK      N   26   87   \n",
       "\n",
       "                                                  abstract      ethnicities  \n",
       "PMID                                                                         \n",
       "3917010  The simplest form of macromolecular design inv...          ENGLISH  \n",
       "3940060  Spatial integration characteristics were asses...  FRENCH-HISPANIC  \n",
       "3128160  Two closely linked structural loci, D and 'CcE...          ENGLISH  \n",
       "3659720  Colon carcinoma cells cocultured with adenoma ...          ENGLISH  \n",
       "3310230  Evidence from many sources shows that the cont...          ENGLISH  "
      ]
     },
     "execution_count": 7,
     "metadata": {},
     "output_type": "execute_result"
    }
   ],
   "source": [
    "authors_data = pd.DataFrame.from_csv(\"D:\\\\Research\\\\Data\\\\soloauthors.tsv\", sep='\\t')\n",
    "authors_data.head(5)"
   ]
  },
  {
   "cell_type": "code",
   "execution_count": 8,
   "metadata": {},
   "outputs": [
    {
     "data": {
      "text/plain": [
       "pandas.core.frame.DataFrame"
      ]
     },
     "execution_count": 8,
     "metadata": {},
     "output_type": "execute_result"
    }
   ],
   "source": [
    "type(authors_data)"
   ]
  },
  {
   "cell_type": "markdown",
   "metadata": {},
   "source": [
    "##### Find which columns contain null values"
   ]
  },
  {
   "cell_type": "code",
   "execution_count": 9,
   "metadata": {},
   "outputs": [
    {
     "data": {
      "text/plain": [
       "lastname       0\n",
       "fn             4\n",
       "year           0\n",
       "country        0\n",
       "gender         0\n",
       "ageY           0\n",
       "ageN           0\n",
       "abstract       0\n",
       "ethnicities    0\n",
       "dtype: int64"
      ]
     },
     "execution_count": 9,
     "metadata": {},
     "output_type": "execute_result"
    }
   ],
   "source": [
    "authors_data.isnull().sum()"
   ]
  },
  {
   "cell_type": "code",
   "execution_count": 10,
   "metadata": {
    "collapsed": true
   },
   "outputs": [],
   "source": [
    "authors_data.gender = authors_data.gender.astype('category')"
   ]
  },
  {
   "cell_type": "code",
   "execution_count": 8,
   "metadata": {},
   "outputs": [
    {
     "data": {
      "text/plain": [
       "lastname         object\n",
       "fn               object\n",
       "year              int64\n",
       "country          object\n",
       "gender         category\n",
       "ageY             object\n",
       "ageN             object\n",
       "abstract         object\n",
       "ethnicities      object\n",
       "dtype: object"
      ]
     },
     "execution_count": 8,
     "metadata": {},
     "output_type": "execute_result"
    }
   ],
   "source": [
    "authors_data.dtypes"
   ]
  },
  {
   "cell_type": "markdown",
   "metadata": {},
   "source": [
    "#### Ethnicity EDA\n",
    "\n",
    "* The frequency of different Ethnicities is dominated by English (~118329).\n",
    "* In the second tier we see German, Japanese, French, Hispanic, Nordic, Slav, Chinese with frequencies ranging from 20044 to 8201."
   ]
  },
  {
   "cell_type": "code",
   "execution_count": 9,
   "metadata": {},
   "outputs": [
    {
     "data": {
      "text/plain": [
       "ENGLISH           118329\n",
       "GERMAN             20044\n",
       "JAPANESE           13406\n",
       "FRENCH             10620\n",
       "HISPANIC           10249\n",
       "NORDIC              8945\n",
       "SLAV                8689\n",
       "CHINESE             8201\n",
       "ITALIAN             6126\n",
       "ARAB                5762\n",
       "INDIAN              5413\n",
       "DUTCH               3908\n",
       "ENGLISH-GERMAN      3847\n",
       "GERMAN-ENGLISH      2938\n",
       "ENGLISH-FRENCH      2922\n",
       "Name: ethnicities, dtype: int64"
      ]
     },
     "execution_count": 9,
     "metadata": {},
     "output_type": "execute_result"
    }
   ],
   "source": [
    "authors_data['ethnicities'].value_counts()[0:15]"
   ]
  },
  {
   "cell_type": "code",
   "execution_count": 10,
   "metadata": {},
   "outputs": [
    {
     "data": {
      "image/png": "[encoded data removed]",
      "text/plain": [
       "<matplotlib.figure.Figure at 0x214f0066390>"
      ]
     },
     "metadata": {},
     "output_type": "display_data"
    }
   ],
   "source": [
    "authors_data['ethnicities'].value_counts()[0:15].plot(kind = 'bar')\n",
    "plt.show()"
   ]
  },
  {
   "cell_type": "code",
   "execution_count": 11,
   "metadata": {
    "collapsed": true
   },
   "outputs": [],
   "source": [
    "indx = authors_data.index"
   ]
  },
  {
   "cell_type": "code",
   "execution_count": 27,
   "metadata": {},
   "outputs": [
    {
     "data": {
      "text/plain": [
       "'This paper describes a number of epidemiological findings relating to the size of the back pain problem within nursing, its distribution across nursing specialties and the comparison of these data with other occupational groups. The extent of the problem within the nursing profession has been estimated through a number of research studies. Unfortunately these studies cannot be easily compared because of differing methodologies and criteria for identifying those with back pain and inconsistent use of prevalence and incidence data. Results from a study of 3912 NHS nurses are considered in detail as is the extent to which back pain is a contributory factor in the decision of nurses to leave the profession. The use of epidemiological methods to identify factors associated with the occurrence of the disorder has also been discussed, although the difficulty of quantifying exposure for factors such as postural requirements necessitates caution in their interpretation.'"
      ]
     },
     "execution_count": 27,
     "metadata": {},
     "output_type": "execute_result"
    }
   ],
   "source": [
    "authors_data.abstract[indx[10]]"
   ]
  },
  {
   "cell_type": "code",
   "execution_count": 13,
   "metadata": {
    "collapsed": true
   },
   "outputs": [],
   "source": [
    "import nltk"
   ]
  },
  {
   "cell_type": "code",
   "execution_count": 16,
   "metadata": {},
   "outputs": [
    {
     "name": "stdout",
     "output_type": "stream",
     "text": [
      "[('Colon', 'NNP'), ('carcinoma', 'NN'), ('cells', 'NNS'), ('cocultured', 'VBN'), ('with', 'IN'), ('adenoma', 'NN'), ('cells', 'NNS'), ('were', 'VBD'), ('examined', 'VBN'), ('under', 'IN'), ('various', 'JJ'), ('experimental', 'JJ'), ('conditions', 'NNS'), ('.', '.'), ('Carcinoma', 'NNP'), ('cells', 'NNS'), ('were', 'VBD'), ('shown', 'VBN'), ('to', 'TO'), ('have', 'VB'), ('a', 'DT'), ('selective', 'JJ'), ('advantage', 'NN'), ('over', 'IN'), ('adenoma', 'JJ'), ('cells', 'NNS'), ('.', '.'), ('This', 'DT'), ('advantage', 'NN'), ('is', 'VBZ'), ('enhanced', 'VBN'), ('by', 'IN'), ('exposure', 'NN'), ('to', 'TO'), ('a', 'DT'), ('tumor', 'NN'), ('promoter', 'NN'), ('.', '.')]\n"
     ]
    }
   ],
   "source": [
    "tokens = nltk.word_tokenize(authors_data.abstract[indx[3]])\n",
    "print(nltk.pos_tag(tokens))"
   ]
  },
  {
   "cell_type": "code",
   "execution_count": 1,
   "metadata": {
    "collapsed": true
   },
   "outputs": [],
   "source": [
    "import pickle"
   ]
  },
  {
   "cell_type": "code",
   "execution_count": 2,
   "metadata": {
    "collapsed": true
   },
   "outputs": [],
   "source": [
    "with open(\"D:\\\\Research\\\\Data\\\\FunctionWord_Merged.PICKLE\", 'rb') as thefile:\n",
    "    dict_fw = pickle.load(thefile)"
   ]
  },
  {
   "cell_type": "code",
   "execution_count": 34,
   "metadata": {
    "collapsed": true
   },
   "outputs": [],
   "source": [
    "def GetFrequencyofFW(abstract):\n",
    "    tokens = nltk.word_tokenize(abstract)\n",
    "    dict_tokens_fw = dict()\n",
    "    dict_tokens_content = dict()\n",
    "    for t in tokens:\n",
    "        if t in dict_fw:\n",
    "            if t in dict_tokens_fw:\n",
    "                dict_tokens_fw[t] += 1\n",
    "            else:\n",
    "                dict_tokens_fw[t] = 1\n",
    "        else:\n",
    "            if t in dict_tokens_content:\n",
    "                dict_tokens_content[t] += 1\n",
    "            else:\n",
    "                dict_tokens_content[t] = 1\n",
    "    print(tokens)\n",
    "    print(dict_tokens_content)\n",
    "    return dict_tokens_fw"
   ]
  },
  {
   "cell_type": "code",
   "execution_count": 35,
   "metadata": {},
   "outputs": [
    {
     "name": "stdout",
     "output_type": "stream",
     "text": [
      "['This', 'paper', 'describes', 'a', 'number', 'of', 'epidemiological', 'findings', 'relating', 'to', 'the', 'size', 'of', 'the', 'back', 'pain', 'problem', 'within', 'nursing', ',', 'its', 'distribution', 'across', 'nursing', 'specialties', 'and', 'the', 'comparison', 'of', 'these', 'data', 'with', 'other', 'occupational', 'groups', '.', 'The', 'extent', 'of', 'the', 'problem', 'within', 'the', 'nursing', 'profession', 'has', 'been', 'estimated', 'through', 'a', 'number', 'of', 'research', 'studies', '.', 'Unfortunately', 'these', 'studies', 'can', 'not', 'be', 'easily', 'compared', 'because', 'of', 'differing', 'methodologies', 'and', 'criteria', 'for', 'identifying', 'those', 'with', 'back', 'pain', 'and', 'inconsistent', 'use', 'of', 'prevalence', 'and', 'incidence', 'data', '.', 'Results', 'from', 'a', 'study', 'of', '3912', 'NHS', 'nurses', 'are', 'considered', 'in', 'detail', 'as', 'is', 'the', 'extent', 'to', 'which', 'back', 'pain', 'is', 'a', 'contributory', 'factor', 'in', 'the', 'decision', 'of', 'nurses', 'to', 'leave', 'the', 'profession', '.', 'The', 'use', 'of', 'epidemiological', 'methods', 'to', 'identify', 'factors', 'associated', 'with', 'the', 'occurrence', 'of', 'the', 'disorder', 'has', 'also', 'been', 'discussed', ',', 'although', 'the', 'difficulty', 'of', 'quantifying', 'exposure', 'for', 'factors', 'such', 'as', 'postural', 'requirements', 'necessitates', 'caution', 'in', 'their', 'interpretation', '.']\n",
      "{'.': 5, 'This': 1, 'Unfortunately': 1, 'incidence': 1, 'study': 1, 'specialties': 1, 'disorder': 1, '3912': 1, 'decision': 1, 'caution': 1, 'across': 1, 'relating': 1, 'methodologies': 1, 'Results': 1, 'comparison': 1, 'identifying': 1, 'pain': 3, 'back': 3, 'requirements': 1, 'postural': 1, 'findings': 1, 'occurrence': 1, 'quantifying': 1, 'criteria': 1, ',': 2, 'through': 1, 'leave': 1, 'factor': 1, 'The': 2, 'inconsistent': 1, 'estimated': 1, 'number': 2, 'prevalence': 1, 'occupational': 1, 'factors': 2, 'groups': 1, 'size': 1, 'differing': 1, 'extent': 2, 'contributory': 1, 'paper': 1, 'problem': 2, 'interpretation': 1, 'distribution': 1, 'necessitates': 1, 'exposure': 1, 'not': 1, 'identify': 1, 'NHS': 1, 'nurses': 2, 'research': 1, 'studies': 2, 'a': 4, 'detail': 1, 'methods': 1, 'profession': 2, 'associated': 1, 'compared': 1, 'nursing': 3, 'easily': 1, 'describes': 1, 'epidemiological': 2}\n"
     ]
    },
    {
     "data": {
      "text/plain": [
       "{'also': 1,\n",
       " 'although': 1,\n",
       " 'and': 4,\n",
       " 'are': 1,\n",
       " 'as': 2,\n",
       " 'be': 1,\n",
       " 'because': 1,\n",
       " 'been': 2,\n",
       " 'can': 1,\n",
       " 'considered': 1,\n",
       " 'data': 2,\n",
       " 'difficulty': 1,\n",
       " 'discussed': 1,\n",
       " 'for': 2,\n",
       " 'from': 1,\n",
       " 'has': 2,\n",
       " 'in': 3,\n",
       " 'is': 2,\n",
       " 'its': 1,\n",
       " 'of': 12,\n",
       " 'other': 1,\n",
       " 'such': 1,\n",
       " 'the': 11,\n",
       " 'their': 1,\n",
       " 'these': 2,\n",
       " 'those': 1,\n",
       " 'to': 4,\n",
       " 'use': 2,\n",
       " 'which': 1,\n",
       " 'with': 3,\n",
       " 'within': 2}"
      ]
     },
     "execution_count": 35,
     "metadata": {},
     "output_type": "execute_result"
    }
   ],
   "source": [
    "GetFrequencyofFW(authors_data.abstract[indx[10]])"
   ]
  },
  {
   "cell_type": "code",
   "execution_count": 30,
   "metadata": {},
   "outputs": [
    {
     "data": {
      "text/plain": [
       "'This paper describes a number of epidemiological findings relating to the size of the back pain problem within nursing, its distribution across nursing specialties and the comparison of these data with other occupational groups. The extent of the problem within the nursing profession has been estimated through a number of research studies. Unfortunately these studies cannot be easily compared because of differing methodologies and criteria for identifying those with back pain and inconsistent use of prevalence and incidence data. Results from a study of 3912 NHS nurses are considered in detail as is the extent to which back pain is a contributory factor in the decision of nurses to leave the profession. The use of epidemiological methods to identify factors associated with the occurrence of the disorder has also been discussed, although the difficulty of quantifying exposure for factors such as postural requirements necessitates caution in their interpretation.'"
      ]
     },
     "execution_count": 30,
     "metadata": {},
     "output_type": "execute_result"
    }
   ],
   "source": [
    "authors_data.abstract[indx[10]]"
   ]
  },
  {
   "cell_type": "code",
   "execution_count": 33,
   "metadata": {},
   "outputs": [
    {
     "data": {
      "text/plain": [
       "2961710"
      ]
     },
     "execution_count": 33,
     "metadata": {},
     "output_type": "execute_result"
    }
   ],
   "source": [
    "indx[10]"
   ]
  }
 ],
 "metadata": {
  "kernelspec": {
   "display_name": "Python 3",
   "language": "python",
   "name": "python3"
  },
  "language_info": {
   "codemirror_mode": {
    "name": "ipython",
    "version": 3
   },
   "file_extension": ".py",
   "mimetype": "text/x-python",
   "name": "python",
   "nbconvert_exporter": "python",
   "pygments_lexer": "ipython3",
   "version": "3.6.2"
  }
 },
 "nbformat": 4,
 "nbformat_minor": 2
}
