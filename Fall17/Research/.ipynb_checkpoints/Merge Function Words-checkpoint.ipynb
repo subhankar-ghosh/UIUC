{
 "cells": [
  {
   "cell_type": "code",
   "execution_count": 11,
   "metadata": {
    "collapsed": true
   },
   "outputs": [],
   "source": [
    "import numpy as np\n",
    "import pandas as pd\n",
    "import pickle"
   ]
  },
  {
   "cell_type": "code",
   "execution_count": 34,
   "metadata": {
    "collapsed": true
   },
   "outputs": [],
   "source": [
    "Pickle_Names = [\"D:\\\\Research\\\\Data\\\\FunctionWord_Parallel_0_10000.PICKLE\", \"D:\\\\Research\\\\Data\\\\FunctionWord_Parallel_10001_20000.PICKLE\", \\\n",
    "               \"D:\\\\Research\\\\Data\\\\FunctionWord_Parallel_30001_40001.PICKLE\", \"D:\\\\Research\\\\Data\\\\FunctionWord_Parallel_50001_60001.PICKLE\", \\\n",
    "               \"D:\\\\Research\\\\Data\\\\FunctionWord_Parallel_60001_70001.PICKLE\", \"D:\\\\Research\\\\Data\\\\FunctionWord_Parallel_70001_80001.PICKLE\", \\\n",
    "               \"D:\\\\Research\\\\Data\\\\FunctionWord_Parallel_80001_90001.PICKLE\", \"D:\\\\Research\\\\Data\\\\FunctionWord_Parallel_90001_100001.PICKLE\", \\\n",
    "               \"D:\\\\Research\\\\Data\\\\FunctionWord_Parallel_100001_110001.PICKLE\", \"D:\\\\Research\\\\Data\\\\FunctionWord_Parallel_110001_120001.PICKLE\", \\\n",
    "               \"D:\\\\Research\\\\Data\\\\FunctionWord_Parallel_120001_130001.PICKLE\", \"D:\\\\Research\\\\Data\\\\FunctionWord_Parallel_130001_140001.PICKLE\", \\\n",
    "               \"D:\\\\Research\\\\Data\\\\FunctionWord_Parallel_140001_150001.PICKLE\", \"D:\\\\Research\\\\Data\\\\FunctionWord_Parallel_150001_160001.PICKLE\", \\\n",
    "               \"D:\\\\Research\\\\Data\\\\FunctionWord_Parallel_160001_170001.PICKLE\", \"D:\\\\Research\\\\Data\\\\FunctionWord_Parallel_170001_180001.PICKLE\", \\\n",
    "               \"D:\\\\Research\\\\Data\\\\FunctionWord_Parallel_180001_190001.PICKLE\", \"D:\\\\Research\\\\Data\\\\FunctionWord_Parallel_190001_200001.PICKLE\", \\\n",
    "               \"D:\\\\Research\\\\Data\\\\FunctionWord_Parallel_210001_220001.PICKLE\", \"D:\\\\Research\\\\Data\\\\FunctionWord_Parallel_220001_230001.PICKLE\"]"
   ]
  },
  {
   "cell_type": "code",
   "execution_count": 75,
   "metadata": {},
   "outputs": [],
   "source": [
    "Function_Words = {}"
   ]
  },
  {
   "cell_type": "code",
   "execution_count": 76,
   "metadata": {},
   "outputs": [],
   "source": [
    "def Get_Dictionary(tst):\n",
    "    for _, dfs in enumerate(tst):\n",
    "        if(dfs is not None):\n",
    "            dictionary = dfs.set_index(\"Word\").T.to_dict('list')\n",
    "    return dictionary"
   ]
  },
  {
   "cell_type": "code",
   "execution_count": 77,
   "metadata": {
    "collapsed": true
   },
   "outputs": [],
   "source": [
    "def CreateFuncWords(fileName):\n",
    "    tst = pd.read_pickle(fileName)\n",
    "    temp_dic = Get_Dictionary(tst)\n",
    "    print(len(Function_Words))\n",
    "    Function_Words.update(temp_dic)\n",
    "    return Function_Words"
   ]
  },
  {
   "cell_type": "code",
   "execution_count": 78,
   "metadata": {},
   "outputs": [
    {
     "name": "stderr",
     "output_type": "stream",
     "text": [
      "C:\\ProgramData\\Anaconda3\\envs\\tensorflow\\lib\\site-packages\\pandas\\core\\frame.py:891: UserWarning: DataFrame columns are not unique, some columns will be omitted.\n",
      "  \"columns will be omitted.\", UserWarning)\n"
     ]
    },
    {
     "name": "stdout",
     "output_type": "stream",
     "text": [
      "0\n"
     ]
    },
    {
     "ename": "AttributeError",
     "evalue": "'NoneType' object has no attribute 'set_index'",
     "output_type": "error",
     "traceback": [
      "\u001b[1;31m---------------------------------------------------------------------------\u001b[0m",
      "\u001b[1;31mAttributeError\u001b[0m                            Traceback (most recent call last)",
      "\u001b[1;32m<ipython-input-78-e93fb67162a9>\u001b[0m in \u001b[0;36m<module>\u001b[1;34m()\u001b[0m\n\u001b[0;32m      1\u001b[0m \u001b[1;32mfor\u001b[0m \u001b[0mnames\u001b[0m \u001b[1;32min\u001b[0m \u001b[0mPickle_Names\u001b[0m\u001b[1;33m:\u001b[0m\u001b[1;33m\u001b[0m\u001b[0m\n\u001b[1;32m----> 2\u001b[1;33m     \u001b[0mCreateFuncWords\u001b[0m\u001b[1;33m(\u001b[0m\u001b[0mnames\u001b[0m\u001b[1;33m)\u001b[0m\u001b[1;33m\u001b[0m\u001b[0m\n\u001b[0m",
      "\u001b[1;32m<ipython-input-77-195cf3420a78>\u001b[0m in \u001b[0;36mCreateFuncWords\u001b[1;34m(fileName)\u001b[0m\n\u001b[0;32m      1\u001b[0m \u001b[1;32mdef\u001b[0m \u001b[0mCreateFuncWords\u001b[0m\u001b[1;33m(\u001b[0m\u001b[0mfileName\u001b[0m\u001b[1;33m)\u001b[0m\u001b[1;33m:\u001b[0m\u001b[1;33m\u001b[0m\u001b[0m\n\u001b[0;32m      2\u001b[0m     \u001b[0mtst\u001b[0m \u001b[1;33m=\u001b[0m \u001b[0mpd\u001b[0m\u001b[1;33m.\u001b[0m\u001b[0mread_pickle\u001b[0m\u001b[1;33m(\u001b[0m\u001b[0mfileName\u001b[0m\u001b[1;33m)\u001b[0m\u001b[1;33m\u001b[0m\u001b[0m\n\u001b[1;32m----> 3\u001b[1;33m     \u001b[0mtemp_dic\u001b[0m \u001b[1;33m=\u001b[0m \u001b[0mGet_Dictionary\u001b[0m\u001b[1;33m(\u001b[0m\u001b[0mtst\u001b[0m\u001b[1;33m)\u001b[0m\u001b[1;33m\u001b[0m\u001b[0m\n\u001b[0m\u001b[0;32m      4\u001b[0m     \u001b[0mprint\u001b[0m\u001b[1;33m(\u001b[0m\u001b[0mlen\u001b[0m\u001b[1;33m(\u001b[0m\u001b[0mFunction_Words\u001b[0m\u001b[1;33m)\u001b[0m\u001b[1;33m)\u001b[0m\u001b[1;33m\u001b[0m\u001b[0m\n\u001b[0;32m      5\u001b[0m     \u001b[0mFunction_Words\u001b[0m\u001b[1;33m.\u001b[0m\u001b[0mupdate\u001b[0m\u001b[1;33m(\u001b[0m\u001b[0mtemp_dic\u001b[0m\u001b[1;33m)\u001b[0m\u001b[1;33m\u001b[0m\u001b[0m\n",
      "\u001b[1;32m<ipython-input-76-a9d67abffd94>\u001b[0m in \u001b[0;36mGet_Dictionary\u001b[1;34m(tst)\u001b[0m\n\u001b[0;32m      1\u001b[0m \u001b[1;32mdef\u001b[0m \u001b[0mGet_Dictionary\u001b[0m\u001b[1;33m(\u001b[0m\u001b[0mtst\u001b[0m\u001b[1;33m)\u001b[0m\u001b[1;33m:\u001b[0m\u001b[1;33m\u001b[0m\u001b[0m\n\u001b[0;32m      2\u001b[0m     \u001b[1;32mfor\u001b[0m \u001b[0m_\u001b[0m\u001b[1;33m,\u001b[0m \u001b[0mdfs\u001b[0m \u001b[1;32min\u001b[0m \u001b[0menumerate\u001b[0m\u001b[1;33m(\u001b[0m\u001b[0mtst\u001b[0m\u001b[1;33m)\u001b[0m\u001b[1;33m:\u001b[0m\u001b[1;33m\u001b[0m\u001b[0m\n\u001b[1;32m----> 3\u001b[1;33m         \u001b[0mdictionary\u001b[0m \u001b[1;33m=\u001b[0m \u001b[0mdfs\u001b[0m\u001b[1;33m.\u001b[0m\u001b[0mset_index\u001b[0m\u001b[1;33m(\u001b[0m\u001b[1;34m\"Word\"\u001b[0m\u001b[1;33m)\u001b[0m\u001b[1;33m.\u001b[0m\u001b[0mT\u001b[0m\u001b[1;33m.\u001b[0m\u001b[0mto_dict\u001b[0m\u001b[1;33m(\u001b[0m\u001b[1;34m'list'\u001b[0m\u001b[1;33m)\u001b[0m\u001b[1;33m\u001b[0m\u001b[0m\n\u001b[0m\u001b[0;32m      4\u001b[0m     \u001b[1;32mreturn\u001b[0m \u001b[0mdictionary\u001b[0m\u001b[1;33m\u001b[0m\u001b[0m\n",
      "\u001b[1;31mAttributeError\u001b[0m: 'NoneType' object has no attribute 'set_index'"
     ]
    }
   ],
   "source": [
    "for names in Pickle_Names:\n",
    "    CreateFuncWords(names)"
   ]
  },
  {
   "cell_type": "code",
   "execution_count": 74,
   "metadata": {},
   "outputs": [
    {
     "data": {
      "text/plain": [
       "dict"
      ]
     },
     "execution_count": 74,
     "metadata": {},
     "output_type": "execute_result"
    }
   ],
   "source": [
    "type(Function_Words)"
   ]
  }
 ],
 "metadata": {
  "kernelspec": {
   "display_name": "Python 3",
   "language": "python",
   "name": "python3"
  },
  "language_info": {
   "codemirror_mode": {
    "name": "ipython",
    "version": 3
   },
   "file_extension": ".py",
   "mimetype": "text/x-python",
   "name": "python",
   "nbconvert_exporter": "python",
   "pygments_lexer": "ipython3",
   "version": "3.5.3"
  }
 },
 "nbformat": 4,
 "nbformat_minor": 2
}
