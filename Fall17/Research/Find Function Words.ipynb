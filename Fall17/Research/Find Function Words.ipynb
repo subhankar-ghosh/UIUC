{
 "cells": [
  {
   "cell_type": "code",
   "execution_count": 1,
   "metadata": {},
   "outputs": [
    {
     "name": "stderr",
     "output_type": "stream",
     "text": [
      "C:\\ProgramData\\Anaconda3\\envs\\tensorflow\\lib\\site-packages\\gensim\\utils.py:865: UserWarning: detected Windows; aliasing chunkize to chunkize_serial\n",
      "  warnings.warn(\"detected Windows; aliasing chunkize to chunkize_serial\")\n",
      "Using TensorFlow backend.\n"
     ]
    }
   ],
   "source": [
    "import numpy as np\n",
    "import pandas as pd\n",
    "import gensim"
   ]
  },
  {
   "cell_type": "markdown",
   "metadata": {},
   "source": [
    "Convert GloVe vectors to Word2Vec Vectors for easy use by gensim. GloVe vectors do not contain the header saying the dimensions and the number of word vectors in the file."
   ]
  },
  {
   "cell_type": "code",
   "execution_count": 2,
   "metadata": {},
   "outputs": [
    {
     "data": {
      "text/plain": [
       "(400001, 100)"
      ]
     },
     "execution_count": 2,
     "metadata": {},
     "output_type": "execute_result"
    }
   ],
   "source": [
    "glove_input_file = 'D:\\\\Research\\\\Data\\\\glove.6B\\\\glove.6B.100d.txt'\n",
    "word2vec_output_file = 'D:\\\\Research\\\\Data\\\\glove.6B\\\\glove.6B.100d.2.txt'\n",
    "glovemodel_100d = 'D:\\\\Research\\\\Data\\\\glove.6B\\\\glove.6B.100d.model'\n",
    "gensim.scripts.glove2word2vec.glove2word2vec(glove_input_file, word2vec_output_file)"
   ]
  },
  {
   "cell_type": "code",
   "execution_count": 3,
   "metadata": {
    "collapsed": true
   },
   "outputs": [],
   "source": [
    "model = gensim.models.KeyedVectors.load_word2vec_format(word2vec_output_file, binary=False)"
   ]
  },
  {
   "cell_type": "code",
   "execution_count": 4,
   "metadata": {
    "collapsed": true
   },
   "outputs": [],
   "source": [
    "model.save(glovemodel_100d)"
   ]
  },
  {
   "cell_type": "code",
   "execution_count": 5,
   "metadata": {},
   "outputs": [
    {
     "data": {
      "text/plain": [
       "gensim.models.keyedvectors.KeyedVectors"
      ]
     },
     "execution_count": 5,
     "metadata": {},
     "output_type": "execute_result"
    }
   ],
   "source": [
    "type(model)"
   ]
  },
  {
   "cell_type": "code",
   "execution_count": 9,
   "metadata": {
    "collapsed": true
   },
   "outputs": [],
   "source": [
    "similar_vector = model.most_similar(positive=[\"and\"], topn=20)"
   ]
  },
  {
   "cell_type": "code",
   "execution_count": 10,
   "metadata": {},
   "outputs": [
    {
     "data": {
      "text/plain": [
       "[('well', 0.8836469650268555),\n",
       " (',', 0.8781740665435791),\n",
       " ('.', 0.8716765642166138),\n",
       " ('while', 0.8539926409721375),\n",
       " ('both', 0.8427387475967407),\n",
       " ('as', 0.8342750668525696),\n",
       " ('other', 0.8341346979141235),\n",
       " ('with', 0.8332647681236267),\n",
       " ('but', 0.8280117511749268),\n",
       " ('also', 0.8182869553565979),\n",
       " ('they', 0.7994592189788818),\n",
       " ('all', 0.7978718280792236),\n",
       " ('made', 0.7942794561386108),\n",
       " ('for', 0.7915228605270386),\n",
       " ('which', 0.7909467220306396),\n",
       " ('others', 0.7905762195587158),\n",
       " ('including', 0.7901453971862793),\n",
       " ('where', 0.7778034210205078),\n",
       " ('have', 0.7730534076690674),\n",
       " ('he', 0.7706631422042847)]"
      ]
     },
     "execution_count": 10,
     "metadata": {},
     "output_type": "execute_result"
    }
   ],
   "source": [
    "[v for v in similar_vector]"
   ]
  },
  {
   "cell_type": "markdown",
   "metadata": {},
   "source": [
    "To see the word vectors"
   ]
  },
  {
   "cell_type": "code",
   "execution_count": 19,
   "metadata": {},
   "outputs": [
    {
     "data": {
      "text/plain": [
       "array([-0.071953  ,  0.23127   ,  0.023731  , -0.50638002,  0.33923   ,\n",
       "        0.19589999, -0.32943001,  0.18364   , -0.18057001,  0.28963   ,\n",
       "        0.20448001, -0.54960001,  0.27399001,  0.58327001,  0.20468   ,\n",
       "       -0.49228001,  0.19973999, -0.070237  , -0.88049001,  0.29484999,\n",
       "        0.14071   , -0.1009    ,  0.99449003,  0.36973   ,  0.44554001,\n",
       "        0.28997999, -0.1376    , -0.56365001, -0.029365  , -0.4122    ,\n",
       "       -0.25268999,  0.63181001, -0.44767001,  0.24363001, -0.10813   ,\n",
       "        0.25163999,  0.46967   ,  0.37549999, -0.23613   , -0.14128999,\n",
       "       -0.44536999, -0.65736997, -0.042421  , -0.28636   , -0.28810999,\n",
       "        0.063766  ,  0.20281   , -0.53542   ,  0.41306999, -0.59722   ,\n",
       "       -0.38613999,  0.19389001, -0.17809001,  1.66180003, -0.011819  ,\n",
       "       -2.3736999 ,  0.058427  , -0.26980001,  1.2823    ,  0.81924999,\n",
       "       -0.22322001,  0.72931999, -0.053211  ,  0.43507001,  0.85010999,\n",
       "       -0.42934999,  0.92663997,  0.39050999,  1.05850005, -0.24561   ,\n",
       "       -0.18265   , -0.53280002,  0.059518  , -0.66018999,  0.18990999,\n",
       "        0.28836   , -0.24339999,  0.52784002, -0.65762001, -0.14081   ,\n",
       "        1.04910004,  0.51340002, -0.23816   ,  0.69894999, -1.4813    ,\n",
       "       -0.24869999, -0.17936   , -0.059137  , -0.08056   , -0.48782   ,\n",
       "        0.014487  , -0.62589997, -0.32367   ,  0.41861999, -1.08070004,\n",
       "        0.46742001, -0.49930999, -0.71894997,  0.86894   ,  0.19539   ], dtype=float32)"
      ]
     },
     "execution_count": 19,
     "metadata": {},
     "output_type": "execute_result"
    }
   ],
   "source": [
    "model.word_vec(\"and\")"
   ]
  }
 ],
 "metadata": {
  "kernelspec": {
   "display_name": "Python 3",
   "language": "python",
   "name": "python3"
  },
  "language_info": {
   "codemirror_mode": {
    "name": "ipython",
    "version": 3
   },
   "file_extension": ".py",
   "mimetype": "text/x-python",
   "name": "python",
   "nbconvert_exporter": "python",
   "pygments_lexer": "ipython3",
   "version": "3.5.3"
  }
 },
 "nbformat": 4,
 "nbformat_minor": 2
}
